{
 "cells": [
  {
   "cell_type": "code",
   "execution_count": 1,
   "metadata": {},
   "outputs": [],
   "source": [
    "import numpy as np\n",
    "import pandas as pd\n",
    "import numba"
   ]
  },
  {
   "cell_type": "code",
   "execution_count": 2,
   "metadata": {},
   "outputs": [],
   "source": [
    "from numba import vectorize, jit"
   ]
  },
  {
   "cell_type": "code",
   "execution_count": 3,
   "metadata": {},
   "outputs": [],
   "source": [
    "import time, random"
   ]
  },
  {
   "cell_type": "code",
   "execution_count": 5,
   "metadata": {},
   "outputs": [],
   "source": [
    "def serial_kde(eval_points, samples, band):\n",
    "    \n",
    "    re_x = (eval_points[:, np.newaxis] - samples[np.newaxis, :]) / band[np.newaxis, :]\n",
    "    gaussian = np.exp(-0.5*(re_x**2))/np.sqrt(2*np.pi)/band[np.newaxis, :]\n",
    "    \n",
    "    return gaussian.sum(axis=1)/len(samples)"
   ]
  },
  {
   "cell_type": "code",
   "execution_count": 7,
   "metadata": {},
   "outputs": [],
   "source": [
    "@jit(nopython=True)\n",
    "def gaussian(x):\n",
    "    \n",
    "    return np.exp(-0.5*(x**2))/np.sqrt(2*np.pi)"
   ]
  },
  {
   "cell_type": "code",
   "execution_count": 92,
   "metadata": {},
   "outputs": [],
   "source": [
    "@jit(nopython=True, parallel=True)\n",
    "def parallel_kde(eval_points, samples, band):\n",
    "    \n",
    "    res = np.zeros_like(eval_points)\n",
    "    for i in numba.prange(len(eval_points)):\n",
    "        eval_x = eval_points[i]\n",
    "        for s, b in zip(samples, band):\n",
    "            res[i] += gaussian((eval_x-s)/b)/b\n",
    "        res[i] /= len(samples)\n",
    "        \n",
    "    return res"
   ]
  },
  {
   "cell_type": "code",
   "execution_count": 146,
   "metadata": {},
   "outputs": [],
   "source": [
    "def generate_input_samples():\n",
    "    \n",
    "    for dtype in [np.float64]:\n",
    "        for n in [1000,5000]:\n",
    "            sigma=0.5\n",
    "            samples = np.random.normal(loc=0.0, scale=sigma, size=n).astype(dtype)\n",
    "            band = np.full_like(samples, 1.06*n**0.2*sigma)\n",
    "            for n_eval in [10,1000, 5000]:\n",
    "                cat = ('samples%d' %n,np.dtype(dtype).name)\n",
    "                ep = np.random.normal(loc=0.0, scale=5.0, size=n_eval).astype(dtype)\n",
    "                yield dict(category=cat, x=n_eval, input_args=(ep, samples, band), input_kwargs={})"
   ]
  },
  {
   "cell_type": "code",
   "execution_count": 147,
   "metadata": {},
   "outputs": [],
   "source": [
    "val = generate_input_samples()"
   ]
  },
  {
   "cell_type": "code",
   "execution_count": 79,
   "metadata": {},
   "outputs": [
    {
     "name": "stdout",
     "output_type": "stream",
     "text": [
      "dict_keys(['category', 'x', 'input_args', 'input_kwargs'])\n",
      "10\n",
      "dict_keys(['category', 'x', 'input_args', 'input_kwargs'])\n",
      "1000\n",
      "dict_keys(['category', 'x', 'input_args', 'input_kwargs'])\n",
      "10000\n",
      "dict_keys(['category', 'x', 'input_args', 'input_kwargs'])\n",
      "10\n",
      "dict_keys(['category', 'x', 'input_args', 'input_kwargs'])\n",
      "1000\n",
      "dict_keys(['category', 'x', 'input_args', 'input_kwargs'])\n",
      "10000\n"
     ]
    }
   ],
   "source": [
    "for item in val:\n",
    "    print (item.keys())\n",
    "    print (item['x'])"
   ]
  },
  {
   "cell_type": "code",
   "execution_count": 148,
   "metadata": {},
   "outputs": [],
   "source": [
    "ip_args, ip_kwargs, size = tuple(),dict(),0\n",
    "for item in val:\n",
    "    ip_args = item['input_args']\n",
    "    ip_kwargs = item['input_kwargs']\n",
    "    size = item['x']"
   ]
  },
  {
   "cell_type": "code",
   "execution_count": 149,
   "metadata": {},
   "outputs": [],
   "source": [
    "e_p, s, b = ip_args[0], ip_args[1], ip_args[2]"
   ]
  },
  {
   "cell_type": "code",
   "execution_count": 150,
   "metadata": {},
   "outputs": [],
   "source": [
    "start_s = time.time()\n",
    "serial_kde(e_p,s,b)\n",
    "end_s = time.time()"
   ]
  },
  {
   "cell_type": "code",
   "execution_count": 151,
   "metadata": {},
   "outputs": [
    {
     "name": "stdout",
     "output_type": "stream",
     "text": [
      "Time taken for Serial implementation : 0.7464690208435059 seconds\n",
      "Dataset Size : 5000 tuples\n"
     ]
    }
   ],
   "source": [
    "print(\"Time taken for Serial implementation : {} seconds\".format(end_s-start_s))\n",
    "print(\"Dataset Size : {} tuples\".format(size))"
   ]
  },
  {
   "cell_type": "code",
   "execution_count": 152,
   "metadata": {},
   "outputs": [],
   "source": [
    "start_p = time.time()\n",
    "parallel_kde(e_p,s,b)\n",
    "end_p = time.time()"
   ]
  },
  {
   "cell_type": "code",
   "execution_count": 153,
   "metadata": {},
   "outputs": [
    {
     "name": "stdout",
     "output_type": "stream",
     "text": [
      "Time taken for Parallel implementation : 0.10188555717468262 seconds\n",
      "Dataset Size : 5000 tuples\n"
     ]
    }
   ],
   "source": [
    "print(\"Time taken for Parallel implementation : {} seconds\".format(end_p-start_p))\n",
    "print(\"Dataset Size : {} tuples\".format(size))"
   ]
  },
  {
   "cell_type": "code",
   "execution_count": 154,
   "metadata": {},
   "outputs": [
    {
     "name": "stdout",
     "output_type": "stream",
     "text": [
      "Improvement with parallel implementation : 7.33 times\n"
     ]
    }
   ],
   "source": [
    "print(\"Improvement with parallel implementation : {:.2f} times\".format(1/((end_p-start_p)/(end_s-start_s))))"
   ]
  },
  {
   "cell_type": "code",
   "execution_count": null,
   "metadata": {},
   "outputs": [],
   "source": []
  }
 ],
 "metadata": {
  "kernelspec": {
   "display_name": "Python 3",
   "language": "python",
   "name": "python3"
  },
  "language_info": {
   "codemirror_mode": {
    "name": "ipython",
    "version": 3
   },
   "file_extension": ".py",
   "mimetype": "text/x-python",
   "name": "python",
   "nbconvert_exporter": "python",
   "pygments_lexer": "ipython3",
   "version": "3.6.9"
  }
 },
 "nbformat": 4,
 "nbformat_minor": 2
}
